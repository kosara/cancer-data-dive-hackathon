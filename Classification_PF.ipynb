{
 "cells": [
  {
   "cell_type": "code",
   "execution_count": 3,
   "metadata": {
    "collapsed": true
   },
   "outputs": [],
   "source": [
    "from sklearn import datasets\n",
    "from sklearn import svm\n",
    "from sklearn import ensemble\n",
    "from sklearn import linear_model\n",
    "from sklearn import tree\n",
    "from sklearn import naive_bayes\n",
    "\n",
    "import pandas\n",
    "import numpy"
   ]
  },
  {
   "cell_type": "markdown",
   "metadata": {},
   "source": [
    "DATA PREPROCESSING"
   ]
  },
  {
   "cell_type": "code",
   "execution_count": 5,
   "metadata": {},
   "outputs": [
    {
     "name": "stdout",
     "output_type": "stream",
     "text": [
      "       age  Nr_admissions_hospital  bnf_item_code  Nr_prescriptions  \\\n",
      "0        5                       0            4.0               1.0   \n",
      "1       24                       0            5.0               1.0   \n",
      "2       59                       0            8.0               1.0   \n",
      "3       68                       0            8.0               1.0   \n",
      "4       75                       0            7.0               1.0   \n",
      "5       45                       1            0.0               0.0   \n",
      "6       45                       1            0.0               0.0   \n",
      "7       60                       0           13.0               1.0   \n",
      "8       60                       0           13.0               1.0   \n",
      "9       82                       0            8.0               1.0   \n",
      "10      82                       0            8.0               1.0   \n",
      "11      59                       0            5.0               1.0   \n",
      "12      82                       0            4.0               1.0   \n",
      "13     103                       0           13.0               1.0   \n",
      "14       1                       0            5.0               1.0   \n",
      "15      45                       0            8.0               1.0   \n",
      "16      92                       0            8.0               1.0   \n",
      "17      62                       0           13.0               1.0   \n",
      "18      79                       0            2.0               1.0   \n",
      "19      97                       0            2.0               1.0   \n",
      "20       0                       0           10.0               1.0   \n",
      "21       0                       0            2.0               1.0   \n",
      "22      47                       0           11.0               1.0   \n",
      "23      81                       1            0.0               0.0   \n",
      "24      83                       0            8.0               1.0   \n",
      "25     106                       0            7.0               1.0   \n",
      "26      61                       1            0.0               0.0   \n",
      "27      75                       0            8.0               1.0   \n",
      "28      93                       0            3.0               1.0   \n",
      "29      98                       0            8.0               1.0   \n",
      "...    ...                     ...            ...               ...   \n",
      "98022    7                       1            0.0               0.0   \n",
      "98023    6                       0            9.0               1.0   \n",
      "98024   15                       0            8.0               1.0   \n",
      "98025   87                       1            0.0               0.0   \n",
      "98026   87                       1            0.0               0.0   \n",
      "98027    0                       0            8.0               1.0   \n",
      "98028   50                       1            0.0               0.0   \n",
      "98029   67                       0            3.0               1.0   \n",
      "98030   47                       0            8.0               1.0   \n",
      "98031   47                       0            8.0               1.0   \n",
      "98032   59                       0            8.0               1.0   \n",
      "98033   59                       0            8.0               1.0   \n",
      "98034   69                       0            4.0               1.0   \n",
      "98035   69                       0            4.0               1.0   \n",
      "98036   72                       0            8.0               1.0   \n",
      "98037   72                       0            8.0               1.0   \n",
      "98038   75                       1            0.0               0.0   \n",
      "98039   75                       1            0.0               0.0   \n",
      "98040   11                       0            4.0               1.0   \n",
      "98041   18                       0            5.0               1.0   \n",
      "98042   18                       0            5.0               1.0   \n",
      "98043   18                       0            5.0               1.0   \n",
      "98044   18                       0            5.0               1.0   \n",
      "98045   57                       0            8.0               1.0   \n",
      "98046   57                       0            8.0               1.0   \n",
      "98047   57                       0            8.0               1.0   \n",
      "98048   57                       0            8.0               1.0   \n",
      "98049   59                       0           10.0               1.0   \n",
      "98050   59                       0           10.0               1.0   \n",
      "98051   59                       0           10.0               1.0   \n",
      "\n",
      "       years_since_diag  cancer_origin  male  female  unknown_sex  malignant  \\\n",
      "0                   -41              4     0       1            0          0   \n",
      "1                   -22              4     0       1            0          0   \n",
      "2                    13              4     0       1            0          0   \n",
      "3                    36              6     0       1            0          0   \n",
      "4                    43              6     0       1            0          0   \n",
      "5                    18              8     0       1            0          1   \n",
      "6                    39              5     1       0            0          0   \n",
      "7                   -38              0     0       1            0          1   \n",
      "8                   -14              3     0       1            0          0   \n",
      "9                   -16              0     0       1            0          1   \n",
      "10                    8              3     0       1            0          0   \n",
      "11                  -30              1     0       1            0          1   \n",
      "12                   -7              1     0       1            0          1   \n",
      "13                  100              7     0       1            0          1   \n",
      "14                  -38              6     1       0            0          1   \n",
      "15                    6              6     1       0            0          1   \n",
      "16                    9              7     0       1            0          1   \n",
      "17                   48              8     1       0            0          1   \n",
      "18                   65              8     1       0            0          1   \n",
      "19                   83              8     1       0            0          1   \n",
      "20                   -9              8     1       0            0          1   \n",
      "21                  -57              7     0       1            0          1   \n",
      "22                  -10              7     0       1            0          1   \n",
      "23                   24              7     0       1            0          1   \n",
      "24                   26              7     0       1            0          1   \n",
      "25                   49              7     0       1            0          1   \n",
      "26                  -39              6     1       0            0          1   \n",
      "27                  -25              6     1       0            0          1   \n",
      "28                   -7              6     1       0            0          1   \n",
      "29                   -2              6     1       0            0          1   \n",
      "...                 ...            ...   ...     ...          ...        ...   \n",
      "98022               -51              7     0       1            0          0   \n",
      "98023                 2              3     0       1            0          1   \n",
      "98024                11              3     0       1            0          1   \n",
      "98025                 2              3     1       0            0          1   \n",
      "98026                 6              7     1       0            0          0   \n",
      "98027               -20              7     1       0            0          1   \n",
      "98028                30              7     1       0            0          1   \n",
      "98029                47              7     1       0            0          1   \n",
      "98030                14              0     1       0            0          1   \n",
      "98031               -46              6     1       0            0          1   \n",
      "98032                26              0     1       0            0          1   \n",
      "98033               -34              6     1       0            0          1   \n",
      "98034                36              0     1       0            0          1   \n",
      "98035               -24              6     1       0            0          1   \n",
      "98036                39              0     1       0            0          1   \n",
      "98037               -21              6     1       0            0          1   \n",
      "98038                42              0     1       0            0          1   \n",
      "98039               -18              6     1       0            0          1   \n",
      "98040               -40              3     0       1            0          1   \n",
      "98041               -24              6     1       0            0          0   \n",
      "98042               -21              8     0       1            0          1   \n",
      "98043                11              4     1       0            0          0   \n",
      "98044               -89              9     1       0            0          1   \n",
      "98045                15              6     1       0            0          0   \n",
      "98046                18              8     0       1            0          1   \n",
      "98047                50              4     1       0            0          0   \n",
      "98048               -50              9     1       0            0          1   \n",
      "98049                17              6     1       0            0          0   \n",
      "98050                20              8     0       1            0          1   \n",
      "98051                52              4     1       0            0          0   \n",
      "\n",
      "      ...  HS  IV  KA  KW  KY  ML  PA  PH  TD  ZE  \n",
      "0     ...   0   0   0   0   0   0   0   0   0   0  \n",
      "1     ...   0   0   0   0   0   0   0   0   0   0  \n",
      "2     ...   0   0   0   0   0   0   0   0   0   0  \n",
      "3     ...   0   0   0   0   0   0   0   0   0   0  \n",
      "4     ...   0   0   0   0   0   0   0   0   0   0  \n",
      "5     ...   0   0   0   0   0   0   0   0   0   0  \n",
      "6     ...   0   0   0   0   0   0   0   0   0   0  \n",
      "7     ...   0   0   0   1   0   0   0   0   0   0  \n",
      "8     ...   0   0   1   0   0   0   0   0   0   0  \n",
      "9     ...   0   0   0   1   0   0   0   0   0   0  \n",
      "10    ...   0   0   1   0   0   0   0   0   0   0  \n",
      "11    ...   0   0   0   0   0   1   0   0   0   0  \n",
      "12    ...   0   0   0   0   0   1   0   0   0   0  \n",
      "13    ...   0   0   0   0   0   0   0   0   0   0  \n",
      "14    ...   0   0   0   0   0   0   0   0   0   0  \n",
      "15    ...   0   0   0   0   0   0   0   0   0   0  \n",
      "16    ...   0   0   0   0   0   0   0   0   0   0  \n",
      "17    ...   0   0   0   0   1   0   0   0   0   0  \n",
      "18    ...   0   0   0   0   1   0   0   0   0   0  \n",
      "19    ...   0   0   0   0   1   0   0   0   0   0  \n",
      "20    ...   0   0   0   0   0   0   0   0   0   0  \n",
      "21    ...   0   0   0   0   0   0   0   0   0   0  \n",
      "22    ...   0   0   0   0   0   0   0   0   0   0  \n",
      "23    ...   0   0   0   0   0   0   0   0   0   0  \n",
      "24    ...   0   0   0   0   0   0   0   0   0   0  \n",
      "25    ...   0   0   0   0   0   0   0   0   0   0  \n",
      "26    ...   0   0   0   1   0   0   0   0   0   0  \n",
      "27    ...   0   0   0   1   0   0   0   0   0   0  \n",
      "28    ...   0   0   0   1   0   0   0   0   0   0  \n",
      "29    ...   0   0   0   1   0   0   0   0   0   0  \n",
      "...   ...  ..  ..  ..  ..  ..  ..  ..  ..  ..  ..  \n",
      "98022 ...   0   0   0   0   0   0   0   0   0   0  \n",
      "98023 ...   0   0   0   0   0   0   0   0   0   0  \n",
      "98024 ...   0   0   0   0   0   0   0   0   0   0  \n",
      "98025 ...   0   0   0   0   0   0   0   0   0   0  \n",
      "98026 ...   0   0   0   0   0   0   0   0   0   0  \n",
      "98027 ...   0   0   0   0   0   1   0   0   0   0  \n",
      "98028 ...   0   0   0   0   0   1   0   0   0   0  \n",
      "98029 ...   0   0   0   0   0   1   0   0   0   0  \n",
      "98030 ...   0   0   0   0   0   0   0   0   0   0  \n",
      "98031 ...   0   0   0   0   0   0   0   0   0   0  \n",
      "98032 ...   0   0   0   0   0   0   0   0   0   0  \n",
      "98033 ...   0   0   0   0   0   0   0   0   0   0  \n",
      "98034 ...   0   0   0   0   0   0   0   0   0   0  \n",
      "98035 ...   0   0   0   0   0   0   0   0   0   0  \n",
      "98036 ...   0   0   0   0   0   0   0   0   0   0  \n",
      "98037 ...   0   0   0   0   0   0   0   0   0   0  \n",
      "98038 ...   0   0   0   0   0   0   0   0   0   0  \n",
      "98039 ...   0   0   0   0   0   0   0   0   0   0  \n",
      "98040 ...   0   0   1   0   0   0   0   0   0   0  \n",
      "98041 ...   0   0   0   0   0   0   1   0   0   0  \n",
      "98042 ...   0   0   0   0   0   0   0   0   0   0  \n",
      "98043 ...   0   0   0   0   1   0   0   0   0   0  \n",
      "98044 ...   0   0   1   0   0   0   0   0   0   0  \n",
      "98045 ...   0   0   0   0   0   0   1   0   0   0  \n",
      "98046 ...   0   0   0   0   0   0   0   0   0   0  \n",
      "98047 ...   0   0   0   0   1   0   0   0   0   0  \n",
      "98048 ...   0   0   1   0   0   0   0   0   0   0  \n",
      "98049 ...   0   0   0   0   0   0   1   0   0   0  \n",
      "98050 ...   0   0   0   0   0   0   0   0   0   0  \n",
      "98051 ...   0   0   0   0   1   0   0   0   0   0  \n",
      "\n",
      "[98052 rows x 38 columns]\n"
     ]
    }
   ],
   "source": [
    "df = pandas.read_csv('D:/Downloads/CleanedTablex.csv')\n",
    "\n",
    "one_hot_s = pandas.get_dummies(df['sex'])\n",
    "df = df.drop('sex', axis=1)\n",
    "df = df.join(one_hot_s)\n",
    "df = df.rename(columns={1: 'male', 2: 'female', 9:'unknown_sex'})\n",
    "\n",
    "one_hot_cancer_type = pandas.get_dummies(df['cancer_type'])\n",
    "df = df.drop('cancer_type', axis=1)\n",
    "df = df.join(one_hot_cancer_type)\n",
    "df = df.rename(columns={'C': 'malignant', 'D': 'benign'})\n",
    "\n",
    "one_hot_cell_type = pandas.get_dummies(df['grade_or_cell_type'])\n",
    "df = df.drop('grade_or_cell_type', axis=1)\n",
    "df = df.join(one_hot_cell_type)\n",
    "# df = df.rename(columns={'C': 'malignant', 'D': 'benign'})\n",
    "\n",
    "\n",
    "del df['unique_record_identifier']\n",
    "del df['gp_practice']\n",
    "del df['hb_of_residence_cypher']\n",
    "del df['clinical_t']\n",
    "del df['clinical_n']\n",
    "del df['clinical_m']\n",
    "del df['pathological_t']\n",
    "\n",
    "# my_channel = 'post_code'\n",
    "# df.my_channel[[df.my_channel].startswith('AB')] = 'AB'\n",
    "\n",
    "df.loc[df['post_code'].str.startswith('AB'), 'post_code'] = 'AB'\n",
    "df.loc[df['post_code'].str.startswith('DD'), 'post_code'] = 'DD'\n",
    "df.loc[df['post_code'].str.startswith('DG'), 'post_code'] = 'DG'\n",
    "df.loc[df['post_code'].str.startswith('EH'), 'post_code'] = 'EH'\n",
    "df.loc[df['post_code'].str.startswith('FK'), 'post_code'] = 'FK'\n",
    "df.loc[df['post_code'].str.startswith('G'), 'post_code'] = 'G'\n",
    "df.loc[df['post_code'].str.startswith('IV'), 'post_code'] = 'IV'\n",
    "df.loc[df['post_code'].str.startswith('KA'), 'post_code'] = 'KA'\n",
    "df.loc[df['post_code'].str.startswith('KW'), 'post_code'] = 'KW'\n",
    "df.loc[df['post_code'].str.startswith('KY'), 'post_code'] = 'KY'\n",
    "df.loc[df['post_code'].str.startswith('ML'), 'post_code'] = 'ML'\n",
    "df.loc[df['post_code'].str.startswith('PA'), 'post_code'] = 'PA'\n",
    "df.loc[df['post_code'].str.startswith('PH'), 'post_code'] = 'PH'\n",
    "df.loc[df['post_code'].str.startswith('TD'), 'post_code'] = 'TD'\n",
    "df.loc[df['post_code'].str.startswith('ZE'), 'post_code'] = 'ZE'\n",
    "df.loc[df['post_code'].str.startswith('HS'), 'post_code'] = 'HS'\n",
    "\n",
    "one_hot_post_code = pandas.get_dummies(df['post_code'])\n",
    "df = df.drop('post_code', axis=1)\n",
    "df = df.join(one_hot_post_code)\n",
    "\n",
    "\n",
    "df['Nr_prescriptions'].fillna(0, inplace=True)\n",
    "df['bnf_item_code'].fillna(0, inplace=True)\n",
    "\n",
    "# df.loc[df['First Season'] > 1990, 'First Season'] = 1\n",
    "\n",
    "df.loc[(df['Nr_admissions_hospital'] < 2)&(df['Nr_admissions_hospital'] >0), 'Nr_admissions_hospital'] = 1\n",
    "df.loc[(df['Nr_admissions_hospital'] < 4)&(df['Nr_admissions_hospital'] >1) , 'Nr_admissions_hospital'] = 2\n",
    "df.loc[(df['Nr_admissions_hospital'] < 7)&(df['Nr_admissions_hospital'] >3), 'Nr_admissions_hospital'] = 3\n",
    "df.loc[df['Nr_admissions_hospital'] > 7, 'Nr_admissions_hospital'] = 4\n",
    "\n",
    "\n",
    "[x,y,w,z,v] = numpy.array_split(df, 5)\n",
    "\n",
    "frames = [x,y,w,z]\n",
    "a = pandas.concat(frames)\n",
    "b = v\n",
    "\n",
    "print(a)\n",
    "# df.to_csv('D:/Downloads/out.csv', sep='\\t')\n",
    "# print(df)\n"
   ]
  },
  {
   "cell_type": "code",
   "execution_count": null,
   "metadata": {
    "collapsed": true
   },
   "outputs": [],
   "source": [
    "svmClassifier = svm.LinearSVC()\n",
    "svmClassifier.fit(a[[\"age\", \"bnf_item_code\", \"Nr_prescriptions\", \"years_since_diag\", \"cancer_origin\", \"male\", \"female\", \"unknown_sex\", \"malignant\", \"benign\"]],a[\"Nr_admissions_hospital\"])\n",
    "\n",
    "svmClassifier.predict(b[[\"age\", \"bnf_item_code\", \"Nr_prescriptions\", \"years_since_diag\", \"cancer_origin\", \"male\", \"female\", \"unknown_sex\", \"malignant\", \"benign\"]])"
   ]
  },
  {
   "cell_type": "code",
   "execution_count": 6,
   "metadata": {},
   "outputs": [
    {
     "data": {
      "text/plain": [
       "0.99675994108983801"
      ]
     },
     "execution_count": 6,
     "metadata": {},
     "output_type": "execute_result"
    }
   ],
   "source": [
    "svmClassifier.score(b[[\"age\", \"bnf_item_code\", \"Nr_prescriptions\", \"years_since_diag\", \"cancer_origin\", \"male\", \"female\", \"unknown_sex\", \"malignant\", \"benign\"]],b[\"Nr_admissions_hospital\"])\n"
   ]
  },
  {
   "cell_type": "code",
   "execution_count": 26,
   "metadata": {},
   "outputs": [
    {
     "data": {
      "text/plain": [
       "0.99677708877284599"
      ]
     },
     "execution_count": 26,
     "metadata": {},
     "output_type": "execute_result"
    }
   ],
   "source": [
    "rclf = ensemble.RandomForestClassifier()\n",
    "rclf.fit(a[[\"age\", \"bnf_item_code\", \"Nr_prescriptions\", \"years_since_diag\", \"cancer_origin\", \"male\", \"female\", \"unknown_sex\", \"malignant\", \"benign\"]],a[\"Nr_admissions_hospital\"])\n",
    "rclf.score(b[[\"age\", \"bnf_item_code\", \"Nr_prescriptions\", \"years_since_diag\", \"cancer_origin\", \"male\", \"female\", \"unknown_sex\", \"malignant\", \"benign\"]],b[\"Nr_admissions_hospital\"])\n"
   ]
  },
  {
   "cell_type": "code",
   "execution_count": 45,
   "metadata": {},
   "outputs": [
    {
     "data": {
      "text/plain": [
       "0.97921759118771678"
      ]
     },
     "execution_count": 45,
     "metadata": {},
     "output_type": "execute_result"
    }
   ],
   "source": [
    "linReg = linear_model.LinearRegression()\n",
    "linReg.fit(a[[\"age\", \"bnf_item_code\", \"Nr_prescriptions\", \"years_since_diag\", \"cancer_origin\", \"male\", \"female\", \"unknown_sex\", \"malignant\", \"benign\"]],a[\"Nr_admissions_hospital\"])\n",
    "linReg.score(b[[\"age\", \"bnf_item_code\", \"Nr_prescriptions\", \"years_since_diag\", \"cancer_origin\", \"male\", \"female\", \"unknown_sex\", \"malignant\", \"benign\"]], b[\"Nr_admissions_hospital\"])\n"
   ]
  },
  {
   "cell_type": "code",
   "execution_count": null,
   "metadata": {
    "collapsed": true
   },
   "outputs": [],
   "source": [
    "decTree = ensemble.RandomForestClassifier()\n",
    "rclf.fit(a[[\"age\", \"bnf_item_code\", \"Nr_prescriptions\", \"years_since_diag\", \"cancer_origin\", \"male\", \"female\", \"unknown_sex\", \"malignant\", \"benign\"]],a[\"Nr_admissions_hospital\"])\n",
    "rclf.score(b[[\"age\", \"bnf_item_code\", \"Nr_prescriptions\", \"years_since_diag\", \"cancer_origin\", \"male\", \"female\", \"unknown_sex\", \"malignant\", \"benign\"]],b[\"Nr_admissions_hospital\"])\n",
    "\n",
    "tree.DecisionTreeClassifier"
   ]
  },
  {
   "cell_type": "code",
   "execution_count": 7,
   "metadata": {},
   "outputs": [
    {
     "data": {
      "text/plain": [
       "array([0, 2, 2, ..., 0, 2, 0], dtype=int64)"
      ]
     },
     "execution_count": 7,
     "metadata": {},
     "output_type": "execute_result"
    }
   ],
   "source": [
    "gnb = naive_bayes.GaussianNB()\n",
    "gnb.fit(a[[\"age\", \"bnf_item_code\", \"Nr_prescriptions\", \"years_since_diag\", \"cancer_origin\", \"male\", \"female\", \"unknown_sex\", \"malignant\", \"benign\"]],a[\"Nr_admissions_hospital\"])\n",
    "gnb.score(b[[\"age\", \"bnf_item_code\", \"Nr_prescriptions\", \"years_since_diag\", \"cancer_origin\", \"male\", \"female\", \"unknown_sex\", \"malignant\", \"benign\"]], b[\"Nr_admissions_hospital\"])\n",
    "# gnb.predict(b[[\"age\", \"bnf_item_code\", \"Nr_prescriptions\", \"years_since_diag\", \"cancer_origin\", \"male\", \"female\", \"unknown_sex\", \"malignant\", \"benign\"]])\n"
   ]
  }
 ],
 "metadata": {
  "kernelspec": {
   "display_name": "Python 2",
   "language": "python",
   "name": "python2"
  },
  "language_info": {
   "codemirror_mode": {
    "name": "ipython",
    "version": 2
   },
   "file_extension": ".py",
   "mimetype": "text/x-python",
   "name": "python",
   "nbconvert_exporter": "python",
   "pygments_lexer": "ipython2",
   "version": "2.7.13"
  }
 },
 "nbformat": 4,
 "nbformat_minor": 2
}
